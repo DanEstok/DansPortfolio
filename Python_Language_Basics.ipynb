{
  "nbformat": 4,
  "nbformat_minor": 0,
  "metadata": {
    "colab": {
      "provenance": [],
      "authorship_tag": "ABX9TyOvVyYs8V1tNNT/2mnn+uDS",
      "include_colab_link": true
    },
    "kernelspec": {
      "name": "python3",
      "display_name": "Python 3"
    },
    "language_info": {
      "name": "python"
    }
  },
  "cells": [
    {
      "cell_type": "markdown",
      "metadata": {
        "id": "view-in-github",
        "colab_type": "text"
      },
      "source": [
        "<a href=\"https://colab.research.google.com/github/DanEstok/DansPortfolio/blob/main/Python_Language_Basics.ipynb\" target=\"_parent\"><img src=\"https://colab.research.google.com/assets/colab-badge.svg\" alt=\"Open In Colab\"/></a>"
      ]
    },
    {
      "cell_type": "code",
      "execution_count": 1,
      "metadata": {
        "colab": {
          "base_uri": "https://localhost:8080/"
        },
        "id": "6WDcFbqQGrvw",
        "outputId": "412c7470-a24e-46b5-9f7f-b94a962bd45b"
      },
      "outputs": [
        {
          "output_type": "stream",
          "name": "stdout",
          "text": [
            "False\n"
          ]
        }
      ],
      "source": [
        "# bool practice and understanding\n",
        "\n",
        "is_game_over = False\n",
        "print(is_game_over)\n",
        "is_game_over = True\n",
        "print(is_game_over)\n",
        "is_game_over = 5 > 6\n",
        "print(is_game_over)\n"
      ]
    },
    {
      "cell_type": "code",
      "source": [
        "# Int and floats practice\n",
        "\n",
        "num_lives = 6\n",
        "print(num_lives)\n",
        "percent_life = 0.6\n",
        "print(percent_life)\n"
      ],
      "metadata": {
        "colab": {
          "base_uri": "https://localhost:8080/"
        },
        "id": "NbsRTaf6IEE4",
        "outputId": "d8721b7f-8062-497b-ab64-b3807ceb4c2b"
      },
      "execution_count": 2,
      "outputs": [
        {
          "output_type": "stream",
          "name": "stdout",
          "text": [
            "6\n",
            "0.6\n"
          ]
        }
      ]
    },
    {
      "cell_type": "code",
      "source": [
        "# String Practice\n",
        "\n",
        "player_name = \"Dan\"\n",
        "print(player_name)\n",
        "player_name =\"Dave\"\n",
        "print(player_name)\n"
      ],
      "metadata": {
        "colab": {
          "base_uri": "https://localhost:8080/"
        },
        "id": "wArIwEcKJ0j1",
        "outputId": "cd77c304-7ab8-4cff-c679-00fd24df97ee"
      },
      "execution_count": 3,
      "outputs": [
        {
          "output_type": "stream",
          "name": "stdout",
          "text": [
            "Dan\n",
            "Dave\n"
          ]
        }
      ]
    },
    {
      "cell_type": "code",
      "source": [
        "# type example practicing\n",
        "\n",
        "print (type(is_game_over))\n",
        "print (type(num_lives))\n",
        "print (type(percent_life))\n",
        "print (type(player_name))\n",
        "\n",
        "num_lives = \"5\"\n",
        "print(type(num_lives))"
      ],
      "metadata": {
        "colab": {
          "base_uri": "https://localhost:8080/"
        },
        "id": "iSG98CR3KLyZ",
        "outputId": "e64d3919-246f-4431-a439-fb3032193353"
      },
      "execution_count": 7,
      "outputs": [
        {
          "output_type": "stream",
          "name": "stdout",
          "text": [
            "<class 'bool'>\n",
            "<class 'str'>\n",
            "<class 'float'>\n",
            "<class 'str'>\n",
            "<class 'str'>\n"
          ]
        }
      ]
    },
    {
      "cell_type": "code",
      "source": [],
      "metadata": {
        "id": "LQHTbMoOK6xN"
      },
      "execution_count": null,
      "outputs": []
    }
  ]
}